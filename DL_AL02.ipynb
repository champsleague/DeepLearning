{
  "nbformat": 4,
  "nbformat_minor": 0,
  "metadata": {
    "colab": {
      "provenance": [],
      "authorship_tag": "ABX9TyPr1bgwWus90TM4xaD1Mu/N",
      "include_colab_link": true
    },
    "kernelspec": {
      "name": "python3",
      "display_name": "Python 3"
    },
    "language_info": {
      "name": "python"
    }
  },
  "cells": [
    {
      "cell_type": "markdown",
      "metadata": {
        "id": "view-in-github",
        "colab_type": "text"
      },
      "source": [
        "<a href=\"https://colab.research.google.com/github/champsleague/DeepLearning/blob/main/DL_AL02.ipynb\" target=\"_parent\"><img src=\"https://colab.research.google.com/assets/colab-badge.svg\" alt=\"Open In Colab\"/></a>"
      ]
    },
    {
      "cell_type": "code",
      "execution_count": 1,
      "metadata": {
        "colab": {
          "base_uri": "https://localhost:8080/"
        },
        "id": "EUmE6u7l3CBK",
        "outputId": "ea8219b8-5344-4f39-c0aa-ec7f3b21ce2a"
      },
      "outputs": [
        {
          "output_type": "stream",
          "name": "stdout",
          "text": [
            "Mounted at /content/gdrive\n"
          ]
        }
      ],
      "source": [
        "from google.colab import drive\n",
        "\n",
        "# Mount Google Drive\n",
        "drive.mount('/content/gdrive')\n"
      ]
    },
    {
      "cell_type": "code",
      "source": [
        "import os\n",
        "import shutil\n",
        "\n",
        "# Set the directory where your images are located\n",
        "image_dir = '/content/gdrive/MyDrive/Chinese food'\n",
        "\n",
        "# Set the directory to store the labeled data\n",
        "labeled_data_dir = '/content/gdrive/MyDrive/labeled_data'\n",
        "os.makedirs(labeled_data_dir, exist_ok=True)\n",
        "\n",
        "# List all files in the image directory\n",
        "image_files = os.listdir(image_dir)\n",
        "\n",
        "# Iterate through the image files\n",
        "for file in image_files:\n",
        "    # Extract the class label from the filename\n",
        "    class_label = file.split('_')[0]  # Assuming the format is \"class_label_filename.png\"\n",
        "    \n",
        "    # Create the subdirectory for the class label if it doesn't exist\n",
        "    class_dir = os.path.join(labeled_data_dir, class_label)\n",
        "    os.makedirs(class_dir, exist_ok=True)\n",
        "    \n",
        "    # Move the image file to the corresponding class subdirectory\n",
        "    file_path = os.path.join(image_dir, file)\n",
        "    new_file_path = os.path.join(class_dir, file)\n",
        "    shutil.copyfile(file_path, new_file_path)\n",
        "    \n",
        "    # Create a text file with the same name as the image file and write the label\n",
        "    text_file_path = os.path.join(class_dir, os.path.splitext(file)[0] + '.txt')\n",
        "    with open(text_file_path, 'w') as f:\n",
        "        f.write(class_label)\n"
      ],
      "metadata": {
        "id": "8zmmXiv_3Fhn"
      },
      "execution_count": 4,
      "outputs": []
    },
    {
      "cell_type": "code",
      "source": [
        "import os\n",
        "import random\n",
        "from tensorflow.keras.preprocessing.image import ImageDataGenerator\n",
        "from tensorflow.keras.applications.resnet50 import preprocess_input\n",
        "from PIL import Image\n",
        "\n",
        "# Set the directory where your labeled data is located\n",
        "labeled_data_dir = '/content/gdrive/MyDrive/labeled_data'\n",
        "\n",
        "# Set the directory to save the augmented and preprocessed images\n",
        "augmented_images_dir = '/content/gdrive/MyDrive/augmented_images'\n",
        "os.makedirs(augmented_images_dir, exist_ok=True)\n",
        "\n",
        "# Set the maximum number of labeled images to use\n",
        "max_labeled_images = 40\n",
        "\n",
        "# Create a list of labeled image filenames\n",
        "labeled_image_files = []\n",
        "for class_label in os.listdir(labeled_data_dir):\n",
        "    class_dir = os.path.join(labeled_data_dir, class_label)\n",
        "    if os.path.isdir(class_dir):\n",
        "        filenames = os.listdir(class_dir)\n",
        "        for filename in filenames:\n",
        "            # Check if the file is an image (supports common image file extensions)\n",
        "            if filename.endswith('.png') or filename.endswith('.jpg') or filename.endswith('.jpeg'):\n",
        "                labeled_image_files.append(os.path.join(class_dir, filename))\n",
        "\n",
        "# Randomly select a subset of labeled images\n",
        "random.seed(42)\n",
        "random.shuffle(labeled_image_files)\n",
        "labeled_image_files = labeled_image_files[:max_labeled_images]\n",
        "\n",
        "# Create an instance of the ImageDataGenerator with desired augmentation options\n",
        "datagen = ImageDataGenerator(\n",
        "    rotation_range=30,\n",
        "    width_shift_range=0.2,\n",
        "    height_shift_range=0.2,\n",
        "    shear_range=0.2,\n",
        "    zoom_range=0.2,\n",
        "    horizontal_flip=True,\n",
        "    vertical_flip=True,\n",
        "    preprocessing_function=preprocess_input\n",
        ")\n",
        "\n",
        "# Perform data augmentation and preprocessing\n",
        "num_augmented_images = 200\n",
        "\n",
        "for i in range(num_augmented_images):\n",
        "    # Randomly select a labeled image from the subset\n",
        "    image_path = random.choice(labeled_image_files)\n",
        "    image = Image.open(image_path)\n",
        "    \n",
        "    # Preprocess and augment the image\n",
        "    image = image.resize((224, 224))\n",
        "    image = preprocess_input(np.array(image))\n",
        "    image = np.expand_dims(image, axis=0)\n",
        "\n",
        "    augmented_images = datagen.flow(image, batch_size=1, save_to_dir=augmented_images_dir, save_prefix='augmented_')\n",
        "    next(augmented_images)\n"
      ],
      "metadata": {
        "id": "45Q4cDe25b9X"
      },
      "execution_count": 11,
      "outputs": []
    }
  ]
}