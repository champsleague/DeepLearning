{
  "nbformat": 4,
  "nbformat_minor": 0,
  "metadata": {
    "colab": {
      "provenance": [],
      "mount_file_id": "1p3ydEKcJ5EGYLeZOErPozBOGS06U1Tsi",
      "authorship_tag": "ABX9TyOa0caty5c0CgNcenMfiNW9",
      "include_colab_link": true
    },
    "kernelspec": {
      "name": "python3",
      "display_name": "Python 3"
    },
    "language_info": {
      "name": "python"
    },
    "accelerator": "GPU",
    "gpuClass": "standard"
  },
  "cells": [
    {
      "cell_type": "markdown",
      "metadata": {
        "id": "view-in-github",
        "colab_type": "text"
      },
      "source": [
        "<a href=\"https://colab.research.google.com/github/champsleague/DeepLearning/blob/main/DL_wk1.ipynb\" target=\"_parent\"><img src=\"https://colab.research.google.com/assets/colab-badge.svg\" alt=\"Open In Colab\"/></a>"
      ]
    },
    {
      "cell_type": "code",
      "execution_count": null,
      "metadata": {
        "colab": {
          "base_uri": "https://localhost:8080/"
        },
        "id": "MugTm95CvsJ6",
        "outputId": "c19c6722-ae10-418b-fca4-f2508f210f31"
      },
      "outputs": [
        {
          "output_type": "stream",
          "name": "stdout",
          "text": [
            "MemTotal:       13297200 kB\n",
            "MemFree:         9619816 kB\n",
            "MemAvailable:   12389068 kB\n",
            "Buffers:          227492 kB\n",
            "Cached:          2717176 kB\n",
            "SwapCached:            0 kB\n",
            "Active:           423880 kB\n",
            "Inactive:        2982160 kB\n",
            "Active(anon):       1024 kB\n",
            "Inactive(anon):   450488 kB\n",
            "Active(file):     422856 kB\n",
            "Inactive(file):  2531672 kB\n",
            "Unevictable:           0 kB\n",
            "Mlocked:               0 kB\n",
            "SwapTotal:             0 kB\n",
            "SwapFree:              0 kB\n",
            "Dirty:             28672 kB\n",
            "Writeback:             0 kB\n",
            "AnonPages:        461452 kB\n",
            "Mapped:           252252 kB\n",
            "Shmem:              1336 kB\n",
            "KReclaimable:     112352 kB\n",
            "Slab:             143020 kB\n",
            "SReclaimable:     112352 kB\n",
            "SUnreclaim:        30668 kB\n",
            "KernelStack:        4224 kB\n",
            "PageTables:         6092 kB\n",
            "NFS_Unstable:          0 kB\n",
            "Bounce:                0 kB\n",
            "WritebackTmp:          0 kB\n",
            "CommitLimit:     6648600 kB\n",
            "Committed_AS:    2599128 kB\n",
            "VmallocTotal:   34359738367 kB\n",
            "VmallocUsed:       68140 kB\n",
            "VmallocChunk:          0 kB\n",
            "Percpu:             1344 kB\n",
            "HardwareCorrupted:     0 kB\n",
            "AnonHugePages:         0 kB\n",
            "ShmemHugePages:        0 kB\n",
            "ShmemPmdMapped:        0 kB\n",
            "FileHugePages:         0 kB\n",
            "FilePmdMapped:         0 kB\n",
            "CmaTotal:              0 kB\n",
            "CmaFree:               0 kB\n",
            "HugePages_Total:       0\n",
            "HugePages_Free:        0\n",
            "HugePages_Rsvd:        0\n",
            "HugePages_Surp:        0\n",
            "Hugepagesize:       2048 kB\n",
            "Hugetlb:               0 kB\n",
            "DirectMap4k:      172864 kB\n",
            "DirectMap2M:     6115328 kB\n",
            "DirectMap1G:     9437184 kB\n"
          ]
        }
      ],
      "source": [
        "!cat /proc/meminfo"
      ]
    },
    {
      "cell_type": "code",
      "source": [
        "!cat /proc/cpuinfo"
      ],
      "metadata": {
        "colab": {
          "base_uri": "https://localhost:8080/"
        },
        "id": "qtNA8XB9wfIJ",
        "outputId": "60efff77-aec9-475b-c00d-b89ba21b8e88"
      },
      "execution_count": 1,
      "outputs": [
        {
          "output_type": "stream",
          "name": "stdout",
          "text": [
            "processor\t: 0\n",
            "vendor_id\t: GenuineIntel\n",
            "cpu family\t: 6\n",
            "model\t\t: 79\n",
            "model name\t: Intel(R) Xeon(R) CPU @ 2.20GHz\n",
            "stepping\t: 0\n",
            "microcode\t: 0xffffffff\n",
            "cpu MHz\t\t: 2199.998\n",
            "cache size\t: 56320 KB\n",
            "physical id\t: 0\n",
            "siblings\t: 2\n",
            "core id\t\t: 0\n",
            "cpu cores\t: 1\n",
            "apicid\t\t: 0\n",
            "initial apicid\t: 0\n",
            "fpu\t\t: yes\n",
            "fpu_exception\t: yes\n",
            "cpuid level\t: 13\n",
            "wp\t\t: yes\n",
            "flags\t\t: fpu vme de pse tsc msr pae mce cx8 apic sep mtrr pge mca cmov pat pse36 clflush mmx fxsr sse sse2 ss ht syscall nx pdpe1gb rdtscp lm constant_tsc rep_good nopl xtopology nonstop_tsc cpuid tsc_known_freq pni pclmulqdq ssse3 fma cx16 pcid sse4_1 sse4_2 x2apic movbe popcnt aes xsave avx f16c rdrand hypervisor lahf_lm abm 3dnowprefetch invpcid_single ssbd ibrs ibpb stibp fsgsbase tsc_adjust bmi1 hle avx2 smep bmi2 erms invpcid rtm rdseed adx smap xsaveopt arat md_clear arch_capabilities\n",
            "bugs\t\t: cpu_meltdown spectre_v1 spectre_v2 spec_store_bypass l1tf mds swapgs taa mmio_stale_data retbleed\n",
            "bogomips\t: 4399.99\n",
            "clflush size\t: 64\n",
            "cache_alignment\t: 64\n",
            "address sizes\t: 46 bits physical, 48 bits virtual\n",
            "power management:\n",
            "\n",
            "processor\t: 1\n",
            "vendor_id\t: GenuineIntel\n",
            "cpu family\t: 6\n",
            "model\t\t: 79\n",
            "model name\t: Intel(R) Xeon(R) CPU @ 2.20GHz\n",
            "stepping\t: 0\n",
            "microcode\t: 0xffffffff\n",
            "cpu MHz\t\t: 2199.998\n",
            "cache size\t: 56320 KB\n",
            "physical id\t: 0\n",
            "siblings\t: 2\n",
            "core id\t\t: 0\n",
            "cpu cores\t: 1\n",
            "apicid\t\t: 1\n",
            "initial apicid\t: 1\n",
            "fpu\t\t: yes\n",
            "fpu_exception\t: yes\n",
            "cpuid level\t: 13\n",
            "wp\t\t: yes\n",
            "flags\t\t: fpu vme de pse tsc msr pae mce cx8 apic sep mtrr pge mca cmov pat pse36 clflush mmx fxsr sse sse2 ss ht syscall nx pdpe1gb rdtscp lm constant_tsc rep_good nopl xtopology nonstop_tsc cpuid tsc_known_freq pni pclmulqdq ssse3 fma cx16 pcid sse4_1 sse4_2 x2apic movbe popcnt aes xsave avx f16c rdrand hypervisor lahf_lm abm 3dnowprefetch invpcid_single ssbd ibrs ibpb stibp fsgsbase tsc_adjust bmi1 hle avx2 smep bmi2 erms invpcid rtm rdseed adx smap xsaveopt arat md_clear arch_capabilities\n",
            "bugs\t\t: cpu_meltdown spectre_v1 spectre_v2 spec_store_bypass l1tf mds swapgs taa mmio_stale_data retbleed\n",
            "bogomips\t: 4399.99\n",
            "clflush size\t: 64\n",
            "cache_alignment\t: 64\n",
            "address sizes\t: 46 bits physical, 48 bits virtual\n",
            "power management:\n",
            "\n"
          ]
        }
      ]
    },
    {
      "cell_type": "code",
      "source": [
        "import torch\n",
        "import torch.nn as nn\n",
        "import torchvision.datasets as dsets"
      ],
      "metadata": {
        "id": "L2rVcttgwmaI"
      },
      "execution_count": 2,
      "outputs": []
    },
    {
      "cell_type": "code",
      "source": [
        "# 1D Array with Pytorch\n",
        "\n",
        "import torch\n",
        "t = torch.FloatTensor([0., 1., 2., 3., 4., 5., 6.])\n",
        "print(t)"
      ],
      "metadata": {
        "colab": {
          "base_uri": "https://localhost:8080/"
        },
        "id": "yWLv7Q7nz1aj",
        "outputId": "063a110f-36e9-4452-cab5-e41477f6c980"
      },
      "execution_count": 4,
      "outputs": [
        {
          "output_type": "stream",
          "name": "stdout",
          "text": [
            "tensor([0., 1., 2., 3., 4., 5., 6.])\n"
          ]
        }
      ]
    },
    {
      "cell_type": "code",
      "source": [
        "print(t.dim()) #rank\n",
        "print(t.shape) #shape\n",
        "print(t.size()) #size\n",
        "print(t[0], t[1], t[-1]) #Element\n",
        "print(t[2:5], t[4:-1]) #Slicing\n",
        "print(t[:2], t[3:]) #Slicing"
      ],
      "metadata": {
        "colab": {
          "base_uri": "https://localhost:8080/"
        },
        "id": "HADErvY_4zlJ",
        "outputId": "421721a4-d475-4bf3-d444-440a071669ea"
      },
      "execution_count": 7,
      "outputs": [
        {
          "output_type": "stream",
          "name": "stdout",
          "text": [
            "1\n",
            "torch.Size([7])\n",
            "torch.Size([7])\n",
            "tensor(0.) tensor(1.) tensor(6.)\n",
            "tensor([2., 3., 4.]) tensor([4., 5.])\n",
            "tensor([0., 1.]) tensor([3., 4., 5., 6.])\n"
          ]
        }
      ]
    },
    {
      "cell_type": "code",
      "source": [
        "# 2D Array with Pytorch\n",
        "\n",
        "t = torch.FloatTensor([[1., 2., 3.],\n",
        "                       [4., 5., 6.],\n",
        "                       [7., 8., 9.],\n",
        "                       [10., 11., 12.]\n",
        "                       ])\n",
        "print(t)"
      ],
      "metadata": {
        "colab": {
          "base_uri": "https://localhost:8080/"
        },
        "id": "arDoYWU45F1C",
        "outputId": "c5030391-2766-46de-991a-bf0463e8fe27"
      },
      "execution_count": 8,
      "outputs": [
        {
          "output_type": "stream",
          "name": "stdout",
          "text": [
            "tensor([[ 1.,  2.,  3.],\n",
            "        [ 4.,  5.,  6.],\n",
            "        [ 7.,  8.,  9.],\n",
            "        [10., 11., 12.]])\n"
          ]
        }
      ]
    },
    {
      "cell_type": "code",
      "source": [
        "print(t.dim())\n",
        "print(t.size())  #shape\n",
        "print(t[:,1])\n",
        "print(t[:,1].size())\n",
        "print(t[:, :-1])"
      ],
      "metadata": {
        "colab": {
          "base_uri": "https://localhost:8080/"
        },
        "id": "xElpYGzo6B6J",
        "outputId": "e8c57ff8-a8fd-4803-fdbb-be8c35d1c37e"
      },
      "execution_count": 19,
      "outputs": [
        {
          "output_type": "stream",
          "name": "stdout",
          "text": [
            "2\n",
            "torch.Size([4, 3])\n",
            "tensor([ 2.,  5.,  8., 11.])\n",
            "torch.Size([4])\n",
            "tensor([[ 1.,  2.],\n",
            "        [ 4.,  5.],\n",
            "        [ 7.,  8.],\n",
            "        [10., 11.]])\n"
          ]
        }
      ]
    },
    {
      "cell_type": "code",
      "source": [
        "import numpy as np\n",
        "\n",
        "t = np.array([[[0,1,2],\n",
        "              [3,4,5]],\n",
        "             \n",
        "             [[6,7,8],\n",
        "              [9,10,11]]])\n",
        "ft = torch.FloatTensor(t)\n",
        "print(ft.shape)\n",
        "\n",
        "\n",
        "import torchvision\n",
        "\n",
        "t2 = np.array([[[0,1,2],[3,4,5]],[[6,7,8],[9,10,11]]])\n",
        "ft2 = torch.from_numpy(t2).float()\n",
        "\n",
        "print(ft2.shape)"
      ],
      "metadata": {
        "colab": {
          "base_uri": "https://localhost:8080/"
        },
        "id": "p4x5NoaW6R7A",
        "outputId": "cf0baabd-ea5c-45e1-e946-c3a60642e556"
      },
      "execution_count": 22,
      "outputs": [
        {
          "output_type": "stream",
          "name": "stdout",
          "text": [
            "torch.Size([2, 2, 3])\n",
            "torch.Size([2, 2, 3])\n"
          ]
        }
      ]
    },
    {
      "cell_type": "code",
      "source": [
        "# Broadcasting\n",
        "\n",
        "import numpy as np\n",
        "import torch\n",
        "\n",
        "# Same shape\n",
        "m1 = torch.FloatTensor([[3,3]])\n",
        "m2 = torch.FloatTensor([[2,2]])\n",
        "print(m1+m2)"
      ],
      "metadata": {
        "colab": {
          "base_uri": "https://localhost:8080/"
        },
        "id": "dGSWH4Gj70eV",
        "outputId": "2a72d516-2cf3-4faf-fa97-6d7a3399d530"
      },
      "execution_count": 24,
      "outputs": [
        {
          "output_type": "stream",
          "name": "stdout",
          "text": [
            "tensor([[5., 5.]])\n"
          ]
        }
      ]
    },
    {
      "cell_type": "code",
      "source": [
        "# Vector + Scalar\n",
        "m1 = torch.FloatTensor([[1,2]])\n",
        "m2 = torch.FloatTensor([3])\n",
        "print(m1)\n",
        "print(m2)\n",
        "print(m1+m2) # m2:3 -> [[3,3]]"
      ],
      "metadata": {
        "colab": {
          "base_uri": "https://localhost:8080/"
        },
        "id": "fA9EEB9S7-D1",
        "outputId": "7ea350dd-adfa-4f8e-ed6a-d03316985f03"
      },
      "execution_count": 26,
      "outputs": [
        {
          "output_type": "stream",
          "name": "stdout",
          "text": [
            "tensor([[1., 2.]])\n",
            "tensor([3.])\n",
            "tensor([[4., 5.]])\n"
          ]
        }
      ]
    },
    {
      "cell_type": "code",
      "source": [
        "# 2 x 1 Vector + 1 x 2 Vector\n",
        "m1 = torch.FloatTensor([[1,2]])\n",
        "m2 = torch.FloatTensor([[3],[4]])\n",
        "print(m1)\n",
        "print(m2)\n",
        "print(m1+m2)\n"
      ],
      "metadata": {
        "colab": {
          "base_uri": "https://localhost:8080/"
        },
        "id": "b6_yjDEM8Osu",
        "outputId": "f09e40e5-8ccc-4278-a18e-3f30858e1865"
      },
      "execution_count": 27,
      "outputs": [
        {
          "output_type": "stream",
          "name": "stdout",
          "text": [
            "tensor([[1., 2.]])\n",
            "tensor([[3.],\n",
            "        [4.]])\n",
            "tensor([[4., 5.],\n",
            "        [5., 6.]])\n"
          ]
        }
      ]
    },
    {
      "cell_type": "code",
      "source": [
        "#Mul vs Matmul\n",
        "\n",
        "m1 = torch.FloatTensor([[1,2],[3,4]])\n",
        "m2 = torch.FloatTensor([[1],[2]])\n",
        "print('Shape of Matrix 1: ', m1.shape)\n",
        "print('Shape of Matrix 2: ', m2.shape)\n",
        "print(m1.matmul(m2))\n",
        "\n",
        "print(\"\\n\")\n",
        "\n",
        "m1 = torch.FloatTensor([[1,2], [3,4]])\n",
        "m2 = torch.FloatTensor([[1], [2]])\n",
        "print('Shape of Matrix 1 : ',m1.shape)\n",
        "print('Shape of Matrix 2 : ',m2.shape)\n",
        "print(m1*m2)\n",
        "print(m1.mul(m2))"
      ],
      "metadata": {
        "colab": {
          "base_uri": "https://localhost:8080/"
        },
        "id": "tKV6owHK8rHW",
        "outputId": "115dc7ba-98bf-48a2-c840-54fa62569c44"
      },
      "execution_count": 30,
      "outputs": [
        {
          "output_type": "stream",
          "name": "stdout",
          "text": [
            "Shape of Matrix 1:  torch.Size([2, 2])\n",
            "Shape of Matrix 2:  torch.Size([2, 1])\n",
            "tensor([[ 5.],\n",
            "        [11.]])\n",
            "\n",
            "\n",
            "Shape of Matrix 1 :  torch.Size([2, 2])\n",
            "Shape of Matrix 2 :  torch.Size([2, 1])\n",
            "tensor([[1., 2.],\n",
            "        [6., 8.]])\n",
            "tensor([[1., 2.],\n",
            "        [6., 8.]])\n"
          ]
        }
      ]
    },
    {
      "cell_type": "code",
      "source": [
        "# Mean\n",
        "\n",
        "t = torch.FloatTensor([[1,2],[3,4]])\n",
        "print(t)"
      ],
      "metadata": {
        "colab": {
          "base_uri": "https://localhost:8080/"
        },
        "id": "DFhayECuFVPo",
        "outputId": "73e831b5-a25e-4ecf-b259-dbdfbe67bae4"
      },
      "execution_count": 32,
      "outputs": [
        {
          "output_type": "stream",
          "name": "stdout",
          "text": [
            "tensor([[1., 2.],\n",
            "        [3., 4.]])\n"
          ]
        }
      ]
    },
    {
      "cell_type": "code",
      "source": [
        "print(t.mean())\n",
        "print(t.mean(dim=0))\n",
        "print(t.mean(dim=1))\n",
        "print(t.mean(dim=-1))"
      ],
      "metadata": {
        "colab": {
          "base_uri": "https://localhost:8080/"
        },
        "id": "i21YGfXZFfqm",
        "outputId": "bdbfa51c-0f84-432c-9727-323f3b3aebfa"
      },
      "execution_count": 33,
      "outputs": [
        {
          "output_type": "stream",
          "name": "stdout",
          "text": [
            "tensor(2.5000)\n",
            "tensor([2., 3.])\n",
            "tensor([1.5000, 3.5000])\n",
            "tensor([1.5000, 3.5000])\n"
          ]
        }
      ]
    },
    {
      "cell_type": "code",
      "source": [],
      "metadata": {
        "id": "-VMFTuUCFx_n"
      },
      "execution_count": null,
      "outputs": []
    }
  ]
}