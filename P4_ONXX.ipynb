{
  "cells": [
    {
      "cell_type": "markdown",
      "metadata": {
        "id": "view-in-github",
        "colab_type": "text"
      },
      "source": [
        "<a href=\"https://colab.research.google.com/github/champsleague/DeepLearning/blob/main/P4_ONXX.ipynb\" target=\"_parent\"><img src=\"https://colab.research.google.com/assets/colab-badge.svg\" alt=\"Open In Colab\"/></a>"
      ]
    },
    {
      "cell_type": "code",
      "execution_count": 1,
      "metadata": {
        "id": "sT-N1nUOleNH"
      },
      "outputs": [],
      "source": [
        "# For tips on running notebooks in Google Colab, see\n",
        "# https://pytorch.org/tutorials/beginner/colab\n",
        "%matplotlib inline"
      ]
    },
    {
      "cell_type": "markdown",
      "metadata": {
        "id": "uZnDFnXkleNL"
      },
      "source": [
        "\n",
        "# (optional) Exporting a Model from PyTorch to ONNX and Running it using ONNX Runtime\n",
        "\n",
        "In this tutorial, we describe how to convert a model defined\n",
        "in PyTorch into the ONNX format and then run it with ONNX Runtime.\n",
        "\n",
        "ONNX Runtime is a performance-focused engine for ONNX models,\n",
        "which inferences efficiently across multiple platforms and hardware\n",
        "(Windows, Linux, and Mac and on both CPUs and GPUs).\n",
        "ONNX Runtime has proved to considerably increase performance over\n",
        "multiple models as explained [here](https://cloudblogs.microsoft.com/opensource/2019/05/22/onnx-runtime-machine-learning-inferencing-0-4-release)_\n",
        "\n",
        "For this tutorial, you will need to install [ONNX](https://github.com/onnx/onnx)_\n",
        "and [ONNX Runtime](https://github.com/microsoft/onnxruntime)_.\n",
        "You can get binary builds of ONNX and ONNX Runtime with\n",
        "``pip install onnx onnxruntime``.\n",
        "Note that ONNX Runtime is compatible with Python versions 3.5 to 3.7.\n",
        "\n",
        "``NOTE``: This tutorial needs PyTorch master branch which can be installed by following\n",
        "the instructions [here](https://github.com/pytorch/pytorch#from-source)_\n"
      ]
    },
    {
      "cell_type": "code",
      "execution_count": 2,
      "metadata": {
        "id": "dsFLsq6zleNO"
      },
      "outputs": [],
      "source": [
        "# Some standard imports\n",
        "import io\n",
        "import numpy as np\n",
        "\n",
        "from torch import nn\n",
        "import torch.utils.model_zoo as model_zoo\n",
        "import torch.onnx"
      ]
    },
    {
      "cell_type": "markdown",
      "metadata": {
        "id": "O-UPsWnDleNP"
      },
      "source": [
        "Super-resolution is a way of increasing the resolution of images, videos\n",
        "and is widely used in image processing or video editing. For this\n",
        "tutorial, we will use a small super-resolution model.\n",
        "\n",
        "First, let's create a ``SuperResolution`` model in PyTorch.\n",
        "This model uses the efficient sub-pixel convolution layer described in\n",
        "[\"Real-Time Single Image and Video Super-Resolution Using an Efficient\n",
        "Sub-Pixel Convolutional Neural Network\" - Shi et al](https://arxiv.org/abs/1609.05158)_\n",
        "for increasing the resolution of an image by an upscale factor.\n",
        "The model expects the Y component of the ``YCbCr`` of an image as an input, and\n",
        "outputs the upscaled Y component in super resolution.\n",
        "\n",
        "[The\n",
        "model](https://github.com/pytorch/examples/blob/master/super_resolution/model.py)_\n",
        "comes directly from PyTorch's examples without modification:\n",
        "\n",
        "\n"
      ]
    },
    {
      "cell_type": "code",
      "execution_count": 3,
      "metadata": {
        "id": "juhR9zFdleNQ"
      },
      "outputs": [],
      "source": [
        "# Super Resolution model definition in PyTorch\n",
        "import torch.nn as nn\n",
        "import torch.nn.init as init\n",
        "\n",
        "\n",
        "class SuperResolutionNet(nn.Module):\n",
        "    def __init__(self, upscale_factor, inplace=False):\n",
        "        super(SuperResolutionNet, self).__init__()\n",
        "\n",
        "        self.relu = nn.ReLU(inplace=inplace)\n",
        "        self.conv1 = nn.Conv2d(1, 64, (5, 5), (1, 1), (2, 2))\n",
        "        self.conv2 = nn.Conv2d(64, 64, (3, 3), (1, 1), (1, 1))\n",
        "        self.conv3 = nn.Conv2d(64, 32, (3, 3), (1, 1), (1, 1))\n",
        "        self.conv4 = nn.Conv2d(32, upscale_factor ** 2, (3, 3), (1, 1), (1, 1))\n",
        "        self.pixel_shuffle = nn.PixelShuffle(upscale_factor)\n",
        "\n",
        "        self._initialize_weights()\n",
        "\n",
        "    def forward(self, x):\n",
        "        x = self.relu(self.conv1(x))\n",
        "        x = self.relu(self.conv2(x))\n",
        "        x = self.relu(self.conv3(x))\n",
        "        x = self.pixel_shuffle(self.conv4(x))\n",
        "        return x\n",
        "\n",
        "    def _initialize_weights(self):\n",
        "        init.orthogonal_(self.conv1.weight, init.calculate_gain('relu'))\n",
        "        init.orthogonal_(self.conv2.weight, init.calculate_gain('relu'))\n",
        "        init.orthogonal_(self.conv3.weight, init.calculate_gain('relu'))\n",
        "        init.orthogonal_(self.conv4.weight)\n",
        "\n",
        "# Create the super-resolution model by using the above model definition.\n",
        "torch_model = SuperResolutionNet(upscale_factor=3)"
      ]
    },
    {
      "cell_type": "markdown",
      "metadata": {
        "id": "9_yXs8LgleNS"
      },
      "source": [
        "Ordinarily, you would now train this model; however, for this tutorial,\n",
        "we will instead download some pretrained weights. Note that this model\n",
        "was not trained fully for good accuracy and is used here for\n",
        "demonstration purposes only.\n",
        "\n",
        "It is important to call ``torch_model.eval()`` or ``torch_model.train(False)``\n",
        "before exporting the model, to turn the model to inference mode.\n",
        "This is required since operators like dropout or batchnorm behave\n",
        "differently in inference and training mode.\n",
        "\n",
        "\n"
      ]
    },
    {
      "cell_type": "code",
      "execution_count": 4,
      "metadata": {
        "id": "c3n9WkgkleNT",
        "colab": {
          "base_uri": "https://localhost:8080/"
        },
        "outputId": "ca6c0e9d-8a61-462d-9d3c-edde2237b65d"
      },
      "outputs": [
        {
          "output_type": "stream",
          "name": "stderr",
          "text": [
            "Downloading: \"https://s3.amazonaws.com/pytorch/test_data/export/superres_epoch100-44c6958e.pth\" to /root/.cache/torch/hub/checkpoints/superres_epoch100-44c6958e.pth\n",
            "100%|██████████| 234k/234k [00:00<00:00, 24.9MB/s]\n"
          ]
        },
        {
          "output_type": "execute_result",
          "data": {
            "text/plain": [
              "SuperResolutionNet(\n",
              "  (relu): ReLU()\n",
              "  (conv1): Conv2d(1, 64, kernel_size=(5, 5), stride=(1, 1), padding=(2, 2))\n",
              "  (conv2): Conv2d(64, 64, kernel_size=(3, 3), stride=(1, 1), padding=(1, 1))\n",
              "  (conv3): Conv2d(64, 32, kernel_size=(3, 3), stride=(1, 1), padding=(1, 1))\n",
              "  (conv4): Conv2d(32, 9, kernel_size=(3, 3), stride=(1, 1), padding=(1, 1))\n",
              "  (pixel_shuffle): PixelShuffle(upscale_factor=3)\n",
              ")"
            ]
          },
          "metadata": {},
          "execution_count": 4
        }
      ],
      "source": [
        "# Load pretrained model weights\n",
        "model_url = 'https://s3.amazonaws.com/pytorch/test_data/export/superres_epoch100-44c6958e.pth'\n",
        "batch_size = 1    # just a random number\n",
        "\n",
        "# Initialize model with the pretrained weights\n",
        "map_location = lambda storage, loc: storage\n",
        "if torch.cuda.is_available():\n",
        "    map_location = None\n",
        "torch_model.load_state_dict(model_zoo.load_url(model_url, map_location=map_location))\n",
        "\n",
        "# set the model to inference mode\n",
        "torch_model.eval()"
      ]
    },
    {
      "cell_type": "markdown",
      "metadata": {
        "id": "gtJtEQy_leNV"
      },
      "source": [
        "Exporting a model in PyTorch works via tracing or scripting. This\n",
        "tutorial will use as an example a model exported by tracing.\n",
        "To export a model, we call the ``torch.onnx.export()`` function.\n",
        "This will execute the model, recording a trace of what operators\n",
        "are used to compute the outputs.\n",
        "Because ``export`` runs the model, we need to provide an input\n",
        "tensor ``x``. The values in this can be random as long as it is the\n",
        "right type and size.\n",
        "Note that the input size will be fixed in the exported ONNX graph for\n",
        "all the input's dimensions, unless specified as a dynamic axes.\n",
        "In this example we export the model with an input of batch_size 1,\n",
        "but then specify the first dimension as dynamic in the ``dynamic_axes``\n",
        "parameter in ``torch.onnx.export()``.\n",
        "The exported model will thus accept inputs of size [batch_size, 1, 224, 224]\n",
        "where batch_size can be variable.\n",
        "\n",
        "To learn more details about PyTorch's export interface, check out the\n",
        "[torch.onnx documentation](https://pytorch.org/docs/master/onnx.html)_.\n",
        "\n",
        "\n"
      ]
    },
    {
      "cell_type": "code",
      "source": [
        "!pip install onnx"
      ],
      "metadata": {
        "colab": {
          "base_uri": "https://localhost:8080/"
        },
        "id": "HuE-kWXevP8s",
        "outputId": "a0ec12a6-9cdc-4bea-850e-4c8368cca5f6"
      },
      "execution_count": 6,
      "outputs": [
        {
          "output_type": "stream",
          "name": "stdout",
          "text": [
            "Looking in indexes: https://pypi.org/simple, https://us-python.pkg.dev/colab-wheels/public/simple/\n",
            "Collecting onnx\n",
            "  Downloading onnx-1.14.0-cp310-cp310-manylinux_2_17_x86_64.manylinux2014_x86_64.whl (14.6 MB)\n",
            "\u001b[2K     \u001b[90m━━━━━━━━━━━━━━━━━━━━━━━━━━━━━━━━━━━━━━━\u001b[0m \u001b[32m14.6/14.6 MB\u001b[0m \u001b[31m108.8 MB/s\u001b[0m eta \u001b[36m0:00:00\u001b[0m\n",
            "\u001b[?25hRequirement already satisfied: numpy in /usr/local/lib/python3.10/dist-packages (from onnx) (1.22.4)\n",
            "Requirement already satisfied: protobuf>=3.20.2 in /usr/local/lib/python3.10/dist-packages (from onnx) (3.20.3)\n",
            "Requirement already satisfied: typing-extensions>=3.6.2.1 in /usr/local/lib/python3.10/dist-packages (from onnx) (4.5.0)\n",
            "Installing collected packages: onnx\n",
            "Successfully installed onnx-1.14.0\n"
          ]
        }
      ]
    },
    {
      "cell_type": "code",
      "execution_count": 7,
      "metadata": {
        "id": "J3DVVYzbleNW",
        "colab": {
          "base_uri": "https://localhost:8080/"
        },
        "outputId": "7200f59e-9dcf-45f9-9ec9-7fef642a713b"
      },
      "outputs": [
        {
          "output_type": "stream",
          "name": "stdout",
          "text": [
            "============= Diagnostic Run torch.onnx.export version 2.0.1+cu118 =============\n",
            "verbose: False, log level: Level.ERROR\n",
            "======================= 0 NONE 0 NOTE 0 WARNING 0 ERROR ========================\n",
            "\n"
          ]
        }
      ],
      "source": [
        "# Input to the model\n",
        "x = torch.randn(batch_size, 1, 224, 224, requires_grad=True)\n",
        "torch_out = torch_model(x)\n",
        "\n",
        "# Export the model\n",
        "torch.onnx.export(torch_model,               # model being run\n",
        "                  x,                         # model input (or a tuple for multiple inputs)\n",
        "                  \"super_resolution.onnx\",   # where to save the model (can be a file or file-like object)\n",
        "                  export_params=True,        # store the trained parameter weights inside the model file\n",
        "                  opset_version=10,          # the ONNX version to export the model to\n",
        "                  do_constant_folding=True,  # whether to execute constant folding for optimization\n",
        "                  input_names = ['input'],   # the model's input names\n",
        "                  output_names = ['output'], # the model's output names\n",
        "                  dynamic_axes={'input' : {0 : 'batch_size'},    # variable length axes\n",
        "                                'output' : {0 : 'batch_size'}})"
      ]
    },
    {
      "cell_type": "markdown",
      "metadata": {
        "id": "1bt95OoYleNX"
      },
      "source": [
        "We also computed ``torch_out``, the output after of the model,\n",
        "which we will use to verify that the model we exported computes\n",
        "the same values when run in ONNX Runtime.\n",
        "\n",
        "But before verifying the model's output with ONNX Runtime, we will check\n",
        "the ONNX model with ONNX API.\n",
        "First, ``onnx.load(\"super_resolution.onnx\")`` will load the saved model and\n",
        "will output a ``onnx.ModelProto`` structure (a top-level file/container format for bundling a ML model.\n",
        "For more information [onnx.proto documentation](https://github.com/onnx/onnx/blob/master/onnx/onnx.proto)_.).\n",
        "Then, ``onnx.checker.check_model(onnx_model)`` will verify the model's structure\n",
        "and confirm that the model has a valid schema.\n",
        "The validity of the ONNX graph is verified by checking the model's\n",
        "version, the graph's structure, as well as the nodes and their inputs\n",
        "and outputs.\n",
        "\n",
        "\n"
      ]
    },
    {
      "cell_type": "code",
      "execution_count": 8,
      "metadata": {
        "id": "6OnCJsxBleNX"
      },
      "outputs": [],
      "source": [
        "import onnx\n",
        "\n",
        "onnx_model = onnx.load(\"super_resolution.onnx\")\n",
        "onnx.checker.check_model(onnx_model)"
      ]
    },
    {
      "cell_type": "markdown",
      "metadata": {
        "id": "pe-97fL-leNX"
      },
      "source": [
        "Now let's compute the output using ONNX Runtime's Python APIs.\n",
        "This part can normally be done in a separate process or on another\n",
        "machine, but we will continue in the same process so that we can\n",
        "verify that ONNX Runtime and PyTorch are computing the same value\n",
        "for the network.\n",
        "\n",
        "In order to run the model with ONNX Runtime, we need to create an\n",
        "inference session for the model with the chosen configuration\n",
        "parameters (here we use the default config).\n",
        "Once the session is created, we evaluate the model using the run() API.\n",
        "The output of this call is a list containing the outputs of the model\n",
        "computed by ONNX Runtime.\n",
        "\n",
        "\n"
      ]
    },
    {
      "cell_type": "code",
      "source": [
        "!pip install onnxruntime"
      ],
      "metadata": {
        "colab": {
          "base_uri": "https://localhost:8080/"
        },
        "id": "yqo1EsKGvhxh",
        "outputId": "7a7bc500-2a4a-4249-a2ac-de8fe2ce30c7"
      },
      "execution_count": 10,
      "outputs": [
        {
          "output_type": "stream",
          "name": "stdout",
          "text": [
            "Looking in indexes: https://pypi.org/simple, https://us-python.pkg.dev/colab-wheels/public/simple/\n",
            "Collecting onnxruntime\n",
            "  Downloading onnxruntime-1.15.0-cp310-cp310-manylinux_2_17_x86_64.manylinux2014_x86_64.whl (5.9 MB)\n",
            "\u001b[2K     \u001b[90m━━━━━━━━━━━━━━━━━━━━━━━━━━━━━━━━━━━━━━━━\u001b[0m \u001b[32m5.9/5.9 MB\u001b[0m \u001b[31m100.0 MB/s\u001b[0m eta \u001b[36m0:00:00\u001b[0m\n",
            "\u001b[?25hCollecting coloredlogs (from onnxruntime)\n",
            "  Downloading coloredlogs-15.0.1-py2.py3-none-any.whl (46 kB)\n",
            "\u001b[2K     \u001b[90m━━━━━━━━━━━━━━━━━━━━━━━━━━━━━━━━━━━━━━━━\u001b[0m \u001b[32m46.0/46.0 kB\u001b[0m \u001b[31m4.0 MB/s\u001b[0m eta \u001b[36m0:00:00\u001b[0m\n",
            "\u001b[?25hRequirement already satisfied: flatbuffers in /usr/local/lib/python3.10/dist-packages (from onnxruntime) (23.3.3)\n",
            "Requirement already satisfied: numpy>=1.21.6 in /usr/local/lib/python3.10/dist-packages (from onnxruntime) (1.22.4)\n",
            "Requirement already satisfied: packaging in /usr/local/lib/python3.10/dist-packages (from onnxruntime) (23.1)\n",
            "Requirement already satisfied: protobuf in /usr/local/lib/python3.10/dist-packages (from onnxruntime) (3.20.3)\n",
            "Requirement already satisfied: sympy in /usr/local/lib/python3.10/dist-packages (from onnxruntime) (1.11.1)\n",
            "Collecting humanfriendly>=9.1 (from coloredlogs->onnxruntime)\n",
            "  Downloading humanfriendly-10.0-py2.py3-none-any.whl (86 kB)\n",
            "\u001b[2K     \u001b[90m━━━━━━━━━━━━━━━━━━━━━━━━━━━━━━━━━━━━━━━━\u001b[0m \u001b[32m86.8/86.8 kB\u001b[0m \u001b[31m11.1 MB/s\u001b[0m eta \u001b[36m0:00:00\u001b[0m\n",
            "\u001b[?25hRequirement already satisfied: mpmath>=0.19 in /usr/local/lib/python3.10/dist-packages (from sympy->onnxruntime) (1.3.0)\n",
            "Installing collected packages: humanfriendly, coloredlogs, onnxruntime\n",
            "Successfully installed coloredlogs-15.0.1 humanfriendly-10.0 onnxruntime-1.15.0\n"
          ]
        }
      ]
    },
    {
      "cell_type": "code",
      "execution_count": 11,
      "metadata": {
        "id": "bM0o7ZPdleNY",
        "colab": {
          "base_uri": "https://localhost:8080/"
        },
        "outputId": "f3631903-1a76-4afb-b046-076e9b67d570"
      },
      "outputs": [
        {
          "output_type": "stream",
          "name": "stdout",
          "text": [
            "Exported model has been tested with ONNXRuntime, and the result looks good!\n"
          ]
        }
      ],
      "source": [
        "import onnxruntime\n",
        "\n",
        "ort_session = onnxruntime.InferenceSession(\"super_resolution.onnx\")\n",
        "\n",
        "def to_numpy(tensor):\n",
        "    return tensor.detach().cpu().numpy() if tensor.requires_grad else tensor.cpu().numpy()\n",
        "\n",
        "# compute ONNX Runtime output prediction\n",
        "ort_inputs = {ort_session.get_inputs()[0].name: to_numpy(x)}\n",
        "ort_outs = ort_session.run(None, ort_inputs)\n",
        "\n",
        "# compare ONNX Runtime and PyTorch results\n",
        "np.testing.assert_allclose(to_numpy(torch_out), ort_outs[0], rtol=1e-03, atol=1e-05)\n",
        "\n",
        "print(\"Exported model has been tested with ONNXRuntime, and the result looks good!\")"
      ]
    },
    {
      "cell_type": "markdown",
      "metadata": {
        "id": "oVYQccoIleNZ"
      },
      "source": [
        "We should see that the output of PyTorch and ONNX Runtime runs match\n",
        "numerically with the given precision (``rtol=1e-03`` and ``atol=1e-05``).\n",
        "As a side-note, if they do not match then there is an issue in the\n",
        "ONNX exporter, so please contact us in that case.\n",
        "\n",
        "\n"
      ]
    },
    {
      "cell_type": "markdown",
      "metadata": {
        "id": "_RhhdgnWleNa"
      },
      "source": [
        "## Running the model on an image using ONNX Runtime\n",
        "\n",
        "\n"
      ]
    },
    {
      "cell_type": "markdown",
      "metadata": {
        "id": "xToCS3eIleNb"
      },
      "source": [
        "So far we have exported a model from PyTorch and shown how to load it\n",
        "and run it in ONNX Runtime with a dummy tensor as an input.\n",
        "\n"
      ]
    },
    {
      "cell_type": "markdown",
      "metadata": {
        "id": "pmSiSD4GleNb"
      },
      "source": [
        "For this tutorial, we will use a famous cat image used widely which\n",
        "looks like below\n",
        "\n",
        ".. figure:: /_static/img/cat_224x224.jpg\n",
        "   :alt: cat\n",
        "\n",
        "\n"
      ]
    },
    {
      "cell_type": "markdown",
      "metadata": {
        "id": "5sZXHrM7leNb"
      },
      "source": [
        "First, let's load the image, preprocess it using standard PIL\n",
        "python library. Note that this preprocessing is the standard practice of\n",
        "processing data for training/testing neural networks.\n",
        "\n",
        "We first resize the image to fit the size of the model's input (224x224).\n",
        "Then we split the image into its Y, Cb, and Cr components.\n",
        "These components represent a grayscale image (Y), and\n",
        "the blue-difference (Cb) and red-difference (Cr) chroma components.\n",
        "The Y component being more sensitive to the human eye, we are\n",
        "interested in this component which we will be transforming.\n",
        "After extracting the Y component, we convert it to a tensor which\n",
        "will be the input of our model.\n",
        "\n",
        "\n"
      ]
    },
    {
      "cell_type": "code",
      "execution_count": 13,
      "metadata": {
        "id": "drrywhf5leNc",
        "colab": {
          "base_uri": "https://localhost:8080/"
        },
        "outputId": "623b3c32-6fd4-4c0c-c53d-b51870af8aba"
      },
      "outputs": [
        {
          "output_type": "execute_result",
          "data": {
            "text/plain": [
              "tensor([[[[0.5412, 0.5255, 0.5059,  ..., 0.5725, 0.5686, 0.5608],\n",
              "          [0.5490, 0.5373, 0.5098,  ..., 0.5765, 0.5725, 0.5647],\n",
              "          [0.5569, 0.5412, 0.5176,  ..., 0.5765, 0.5686, 0.5647],\n",
              "          ...,\n",
              "          [0.6745, 0.6627, 0.6510,  ..., 0.5098, 0.5098, 0.5059],\n",
              "          [0.6471, 0.6314, 0.6235,  ..., 0.5098, 0.5059, 0.5059],\n",
              "          [0.6078, 0.5961, 0.6039,  ..., 0.5098, 0.5020, 0.4980]]]])"
            ]
          },
          "metadata": {},
          "execution_count": 13
        }
      ],
      "source": [
        "from PIL import Image\n",
        "import torchvision.transforms as transforms\n",
        "\n",
        "img = Image.open(\"/content/cat.jpg\")\n",
        "\n",
        "resize = transforms.Resize([224, 224])\n",
        "img = resize(img)\n",
        "\n",
        "img_ycbcr = img.convert('YCbCr')\n",
        "img_y, img_cb, img_cr = img_ycbcr.split()\n",
        "\n",
        "to_tensor = transforms.ToTensor()\n",
        "img_y = to_tensor(img_y)\n",
        "img_y.unsqueeze_(0)"
      ]
    },
    {
      "cell_type": "markdown",
      "metadata": {
        "id": "oTR1f1FlleNd"
      },
      "source": [
        "Now, as a next step, let's take the tensor representing the\n",
        "grayscale resized cat image and run the super-resolution model in\n",
        "ONNX Runtime as explained previously.\n",
        "\n",
        "\n"
      ]
    },
    {
      "cell_type": "code",
      "execution_count": 14,
      "metadata": {
        "id": "6U1jdfxrleNd"
      },
      "outputs": [],
      "source": [
        "ort_inputs = {ort_session.get_inputs()[0].name: to_numpy(img_y)}\n",
        "ort_outs = ort_session.run(None, ort_inputs)\n",
        "img_out_y = ort_outs[0]"
      ]
    },
    {
      "cell_type": "markdown",
      "metadata": {
        "id": "I6F60GPbleNd"
      },
      "source": [
        "At this point, the output of the model is a tensor.\n",
        "Now, we'll process the output of the model to construct back the\n",
        "final output image from the output tensor, and save the image.\n",
        "The post-processing steps have been adopted from PyTorch\n",
        "implementation of super-resolution model\n",
        "[here](https://github.com/pytorch/examples/blob/master/super_resolution/super_resolve.py)_.\n",
        "\n",
        "\n"
      ]
    },
    {
      "cell_type": "code",
      "execution_count": 21,
      "metadata": {
        "id": "WCfTSr4UleNe"
      },
      "outputs": [],
      "source": [
        "img_out_y = Image.fromarray(np.uint8((np.array(img_out_y) * 255.0).clip(0, 255)), mode='L')\n",
        "\n",
        "# get the output image following the post-processing step from the PyTorch implementation\n",
        "final_img = Image.merge(\n",
        "    \"YCbCr\", [\n",
        "        img_out_y,\n",
        "        img_cb.resize(img_out_y.size, Image.BICUBIC),\n",
        "        img_cr.resize(img_out_y.size, Image.BICUBIC),\n",
        "    ]).convert(\"RGB\")\n",
        "\n",
        "# Save the image, which can be compared with the output image from a mobile device\n",
        "final_img.save(\"/content/cat.jpg\")\n"
      ]
    },
    {
      "cell_type": "markdown",
      "metadata": {
        "id": "CWFuqaFxleNe"
      },
      "source": [
        ".. figure:: /_static/img/cat_superres_with_ort.jpg\n",
        "   :alt: output\\_cat\n",
        "\n",
        "\n",
        "ONNX Runtime being a cross platform engine, you can run it across\n",
        "multiple platforms and on both CPUs and GPUs.\n",
        "\n",
        "ONNX Runtime can also be deployed to the cloud for model inferencing\n",
        "using Azure Machine Learning Services. More information [here](https://docs.microsoft.com/en-us/azure/machine-learning/service/concept-onnx)_.\n",
        "\n",
        "More information about ONNX Runtime's performance [here](https://github.com/microsoft/onnxruntime#high-performance)_.\n",
        "\n",
        "\n",
        "For more information about ONNX Runtime [here](https://github.com/microsoft/onnxruntime)_.\n",
        "\n",
        "\n"
      ]
    }
  ],
  "metadata": {
    "kernelspec": {
      "display_name": "Python 3",
      "language": "python",
      "name": "python3"
    },
    "language_info": {
      "codemirror_mode": {
        "name": "ipython",
        "version": 3
      },
      "file_extension": ".py",
      "mimetype": "text/x-python",
      "name": "python",
      "nbconvert_exporter": "python",
      "pygments_lexer": "ipython3",
      "version": "3.10.10"
    },
    "colab": {
      "provenance": [],
      "include_colab_link": true
    }
  },
  "nbformat": 4,
  "nbformat_minor": 0
}